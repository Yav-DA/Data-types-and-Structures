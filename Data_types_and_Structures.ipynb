{
  "nbformat": 4,
  "nbformat_minor": 0,
  "metadata": {
    "colab": {
      "provenance": []
    },
    "kernelspec": {
      "name": "python3",
      "display_name": "Python 3"
    },
    "language_info": {
      "name": "python"
    }
  },
  "cells": [
    {
      "cell_type": "markdown",
      "source": [
        "1. What are data structures, and why are they important?\n",
        "\n",
        "\n",
        "*   Data structures are ways to organize and store data efficiently in a computer so it can be accessed and modified easily. They are essential because they help manage large amounts of data for operations like searching, sorting, and processing, ensuring optimal performance.\n",
        "\n"
      ],
      "metadata": {
        "id": "PaSO2o6jHykv"
      }
    },
    {
      "cell_type": "markdown",
      "source": [
        "2. Explain the difference between mutable and immutable data types with examples.\n",
        "\n",
        "*   Mutable data types can be changed after creation (e.g., lists, dictionaries), while immutable types cannot be modified (e.g., strings, tuples).\n",
        "\n"
      ],
      "metadata": {
        "id": "5Ca1TrUmH1RI"
      }
    },
    {
      "cell_type": "code",
      "source": [
        "a = [1, 2]  # Mutable\n",
        "a.append(3)  # Allowed\n",
        "b = \"hello\"  # Immutable\n",
        "b[0] = \"H\"  # Not allowed"
      ],
      "metadata": {
        "colab": {
          "base_uri": "https://localhost:8080/",
          "height": 180
        },
        "id": "-zmG05MnIOp_",
        "outputId": "7699f6f9-ea12-4b37-ce54-5f37a2fd7213"
      },
      "execution_count": null,
      "outputs": [
        {
          "output_type": "error",
          "ename": "TypeError",
          "evalue": "'str' object does not support item assignment",
          "traceback": [
            "\u001b[0;31m---------------------------------------------------------------------------\u001b[0m",
            "\u001b[0;31mTypeError\u001b[0m                                 Traceback (most recent call last)",
            "\u001b[0;32m<ipython-input-39-3061663416>\u001b[0m in \u001b[0;36m<cell line: 0>\u001b[0;34m()\u001b[0m\n\u001b[1;32m      2\u001b[0m \u001b[0ma\u001b[0m\u001b[0;34m.\u001b[0m\u001b[0mappend\u001b[0m\u001b[0;34m(\u001b[0m\u001b[0;36m3\u001b[0m\u001b[0;34m)\u001b[0m  \u001b[0;31m# Allowed\u001b[0m\u001b[0;34m\u001b[0m\u001b[0;34m\u001b[0m\u001b[0m\n\u001b[1;32m      3\u001b[0m \u001b[0mb\u001b[0m \u001b[0;34m=\u001b[0m \u001b[0;34m\"hello\"\u001b[0m  \u001b[0;31m# Immutable\u001b[0m\u001b[0;34m\u001b[0m\u001b[0;34m\u001b[0m\u001b[0m\n\u001b[0;32m----> 4\u001b[0;31m \u001b[0mb\u001b[0m\u001b[0;34m[\u001b[0m\u001b[0;36m0\u001b[0m\u001b[0;34m]\u001b[0m \u001b[0;34m=\u001b[0m \u001b[0;34m\"H\"\u001b[0m  \u001b[0;31m# Not allowed\u001b[0m\u001b[0;34m\u001b[0m\u001b[0;34m\u001b[0m\u001b[0m\n\u001b[0m",
            "\u001b[0;31mTypeError\u001b[0m: 'str' object does not support item assignment"
          ]
        }
      ]
    },
    {
      "cell_type": "markdown",
      "source": [
        "3. What are the main differences between lists and tuples in Python?\n",
        "\n",
        "*   Lists are mutable, can be changed after creation, and generally slower. Tuples are immutable, faster, and used for fixed data.\n",
        "\n"
      ],
      "metadata": {
        "id": "VbRY3XQwIVHF"
      }
    },
    {
      "cell_type": "markdown",
      "source": [
        "4. Describe how dictionaries store data.\n",
        "\n",
        "\n",
        "*   Dictionaries store data as key-value pairs using a hash table internally. Each key maps to a value and allows fast retrieval.\n",
        "\n",
        "\n"
      ],
      "metadata": {
        "id": "WwfuXNzUIkJY"
      }
    },
    {
      "cell_type": "markdown",
      "source": [
        "5. Why might you use a set instead of a list in Python?\n",
        "\n",
        "\n",
        "*   Sets are used when you want to store unique items and perform operations like union, intersection efficiently.\n",
        "\n",
        "\n"
      ],
      "metadata": {
        "id": "5RDWMhW1JhF9"
      }
    },
    {
      "cell_type": "markdown",
      "source": [
        "6. What is a string in Python, and how is it different from a list?\n",
        "\n",
        "\n",
        "*   A string is an immutable sequence of characters, while a list is a mutable collection that can hold different data types.\n",
        "\n",
        "\n"
      ],
      "metadata": {
        "id": "X-HHYj3pJndN"
      }
    },
    {
      "cell_type": "markdown",
      "source": [
        "7. How do tuples ensure data integrity in Python?\n",
        "\n",
        "\n",
        "*   Tuples are immutable, which makes them useful for fixed collections. Their immutability ensures data can’t be changed unintentionally.\n",
        "\n"
      ],
      "metadata": {
        "id": "ps1Lwd_2Jtw5"
      }
    },
    {
      "cell_type": "markdown",
      "source": [
        "8. What is a hash table, and how does it relate to dictionaries in Python?\n",
        "\n",
        "\n",
        "*   A hash table maps keys to values using a hash function. Python dictionaries are implemented using hash tables for fast key lookup.\n",
        "\n",
        "\n"
      ],
      "metadata": {
        "id": "1tm_yBi6J0kI"
      }
    },
    {
      "cell_type": "markdown",
      "source": [
        "9. Can lists contain different data types in Python?\n",
        "\n",
        "\n",
        "*   Yes, Python lists are heterogeneous and can store different types like integers, strings, even other lists or objects.\n",
        "\n"
      ],
      "metadata": {
        "id": "TK-2oewGJ5ah"
      }
    },
    {
      "cell_type": "markdown",
      "source": [
        "10. Explain why strings are immutable in Python.\n",
        "\n",
        "\n",
        "*   Strings are immutable to ensure performance, security, and thread safety. Changing a string creates a new object.\n",
        "\n"
      ],
      "metadata": {
        "id": "m98mue2AKEwq"
      }
    },
    {
      "cell_type": "markdown",
      "source": [
        "11. What advantages do dictionaries offer over lists for certain tasks?\n",
        "\n",
        "\n",
        "*   Dictionaries allow fast lookup using keys, making them better for associative data. Lists require linear search for the same.\n",
        "\n"
      ],
      "metadata": {
        "id": "E7-jNAnhKJpr"
      }
    },
    {
      "cell_type": "markdown",
      "source": [
        "12. Describe a scenario where using a tuple would be preferable over a list.\n",
        "\n",
        "\n",
        "*   When you want to return multiple values from a function or use data as a dictionary key, tuples are preferable because they are immutable.\n",
        "\n"
      ],
      "metadata": {
        "id": "oB4TjxzLKNxh"
      }
    },
    {
      "cell_type": "markdown",
      "source": [
        "13. How do sets handle duplicate values in Python?\n",
        "\n",
        "\n",
        "*   Sets automatically discard duplicates. Adding the same element multiple times results in one unique entry.\n",
        "\n"
      ],
      "metadata": {
        "id": "0R-6SiYeKRxQ"
      }
    },
    {
      "cell_type": "markdown",
      "source": [
        "14. How does the “in” keyword work differently for lists and dictionaries?\n",
        "\n",
        "*   For lists, it checks if the item is present in the values. For dictionaries, it checks for presence of a key.\n",
        "\n"
      ],
      "metadata": {
        "id": "RJMgsodhKWb_"
      }
    },
    {
      "cell_type": "markdown",
      "source": [
        "15. Can you modify the elements of a tuple? Explain why or why not.\n",
        "\n",
        "\n",
        "*   No, tuples are immutable. Once created, you cannot change or assign new values to their elements.\n",
        "\n"
      ],
      "metadata": {
        "id": "wWCC97zDKeoZ"
      }
    },
    {
      "cell_type": "markdown",
      "source": [
        "16. What is a nested dictionary, and give an example of its use case.\n",
        "\n",
        "\n",
        "*   A nested dictionary is a dictionary inside another dictionary.\n",
        "\n"
      ],
      "metadata": {
        "id": "P32m84ueKi_G"
      }
    },
    {
      "cell_type": "code",
      "source": [
        "student = {\n",
        "    'name': 'John',\n",
        "    'grades': {\n",
        "        'math': 90,\n",
        "        'science': 85\n",
        "    }\n",
        "}\n",
        "\n",
        "# Access values using keys\n",
        "print(\"Student Name:\", student['name'])\n",
        "print(\"Math Grade:\", student['grades']['math'])\n",
        "print(\"Science Grade:\", student['grades']['science'])"
      ],
      "metadata": {
        "colab": {
          "base_uri": "https://localhost:8080/"
        },
        "id": "RukokA9VKnPY",
        "outputId": "8a3559c8-aacd-425b-e677-b9f3c18ee893"
      },
      "execution_count": null,
      "outputs": [
        {
          "output_type": "stream",
          "name": "stdout",
          "text": [
            "Student Name: John\n",
            "Math Grade: 90\n",
            "Science Grade: 85\n"
          ]
        }
      ]
    },
    {
      "cell_type": "markdown",
      "source": [
        "17. Describe the time complexity of accessing elements in a dictionary.\n",
        "\n",
        "\n",
        "*   Accessing an element in a dictionary is on average O(1) time due to hash-based indexing.\n",
        "\n"
      ],
      "metadata": {
        "id": "Xwy5h6X9K1tL"
      }
    },
    {
      "cell_type": "markdown",
      "source": [
        "18. In what situations are lists preferred over dictionaries?\n",
        "\n",
        "\n",
        "*   Lists are preferred when order matters or when storing simple sequences without needing key-value association.\n",
        "\n"
      ],
      "metadata": {
        "id": "nVutlXVJK6wn"
      }
    },
    {
      "cell_type": "markdown",
      "source": [
        "19. Why are dictionaries considered unordered, and how does that affect data retrieval?\n",
        "\n",
        "\n",
        "*   Before Python 3.7, dictionaries didn’t maintain insertion order. While modern versions do, they're still optimized for key-based lookup, not order.\n",
        "\n"
      ],
      "metadata": {
        "id": "cNnkZti6K_X5"
      }
    },
    {
      "cell_type": "markdown",
      "source": [
        "20. Explain the difference between a list and a dictionary in terms of data retrieval.\n",
        "\n",
        "\n",
        "*   Lists retrieve values using index positions, whereas dictionaries retrieve values using unique keys, which allows faster lookups.\n",
        "\n"
      ],
      "metadata": {
        "id": "YrvfyNPOLD0_"
      }
    },
    {
      "cell_type": "markdown",
      "source": [
        "Pactical Answers"
      ],
      "metadata": {
        "id": "pHu8L22bXkbG"
      }
    },
    {
      "cell_type": "markdown",
      "source": [
        "1. Create a string with your name and print it"
      ],
      "metadata": {
        "id": "82pK_J9UXnYX"
      }
    },
    {
      "cell_type": "code",
      "execution_count": null,
      "metadata": {
        "colab": {
          "base_uri": "https://localhost:8080/"
        },
        "id": "p19S0Nk1-gc1",
        "outputId": "af1f80f5-cc3c-4231-f0de-17b5774be5e2"
      },
      "outputs": [
        {
          "output_type": "stream",
          "name": "stdout",
          "text": [
            "Yavnika\n"
          ]
        }
      ],
      "source": [
        "name = \"Yavnika\"\n",
        "print(name)"
      ]
    },
    {
      "cell_type": "markdown",
      "source": [
        "2. Find the length of the string \"Hello World\""
      ],
      "metadata": {
        "id": "Dhr097etXwXw"
      }
    },
    {
      "cell_type": "code",
      "source": [
        "text = \"Hello World\"\n",
        "print(len(text))"
      ],
      "metadata": {
        "colab": {
          "base_uri": "https://localhost:8080/"
        },
        "id": "vfNN32Zw-1_r",
        "outputId": "38b9c438-5cce-489f-abe9-8dd575b1eb3b"
      },
      "execution_count": null,
      "outputs": [
        {
          "output_type": "stream",
          "name": "stdout",
          "text": [
            "11\n"
          ]
        }
      ]
    },
    {
      "cell_type": "markdown",
      "source": [
        "3. Slice the first 3 characters from \"Python Programming\""
      ],
      "metadata": {
        "id": "FDdqIQEBX1DM"
      }
    },
    {
      "cell_type": "code",
      "source": [
        "text = \"Python Programming\"\n",
        "print(text[:3])"
      ],
      "metadata": {
        "colab": {
          "base_uri": "https://localhost:8080/"
        },
        "id": "MelYdEhh-8Vo",
        "outputId": "daf13444-c186-4de8-d90d-2f3e277ed473"
      },
      "execution_count": null,
      "outputs": [
        {
          "output_type": "stream",
          "name": "stdout",
          "text": [
            "Pyt\n"
          ]
        }
      ]
    },
    {
      "cell_type": "markdown",
      "source": [
        "4. Convert \"hello\" to uppercase"
      ],
      "metadata": {
        "id": "07Sh1EKcX5av"
      }
    },
    {
      "cell_type": "code",
      "source": [
        "text = \"hello\"\n",
        "print(text.upper())"
      ],
      "metadata": {
        "colab": {
          "base_uri": "https://localhost:8080/"
        },
        "id": "SsOrvgLT_BGT",
        "outputId": "363c165d-f6f4-43bf-aded-010f8c77c04b"
      },
      "execution_count": null,
      "outputs": [
        {
          "output_type": "stream",
          "name": "stdout",
          "text": [
            "HELLO\n"
          ]
        }
      ]
    },
    {
      "cell_type": "markdown",
      "source": [
        "5. Replace \"apple\" with \"orange\" in \"I like apple\""
      ],
      "metadata": {
        "id": "uL1MkRarX9m7"
      }
    },
    {
      "cell_type": "code",
      "source": [
        "text = \"I like apple\"\n",
        "print(text.replace(\"apple\", \"orange\"))"
      ],
      "metadata": {
        "colab": {
          "base_uri": "https://localhost:8080/"
        },
        "id": "kTdBqomu_FAC",
        "outputId": "23b5e526-67fd-4c9c-abb9-53b83ad26413"
      },
      "execution_count": null,
      "outputs": [
        {
          "output_type": "stream",
          "name": "stdout",
          "text": [
            "I like orange\n"
          ]
        }
      ]
    },
    {
      "cell_type": "markdown",
      "source": [
        "6. Create a list with numbers 1 to 5 and print it"
      ],
      "metadata": {
        "id": "uvD0AtEFYBT0"
      }
    },
    {
      "cell_type": "code",
      "source": [
        "numbers = [1, 2, 3, 4, 5]\n",
        "print(numbers)"
      ],
      "metadata": {
        "colab": {
          "base_uri": "https://localhost:8080/"
        },
        "id": "f34q0Nrd_LYF",
        "outputId": "a6305a92-a170-43b3-d530-77b64fc5e555"
      },
      "execution_count": null,
      "outputs": [
        {
          "output_type": "stream",
          "name": "stdout",
          "text": [
            "[1, 2, 3, 4, 5]\n"
          ]
        }
      ]
    },
    {
      "cell_type": "markdown",
      "source": [
        "7. Append 10 to list [1, 2, 3, 4]"
      ],
      "metadata": {
        "id": "OADVFSn2YETR"
      }
    },
    {
      "cell_type": "code",
      "source": [
        "numbers = [1, 2, 3, 4]\n",
        "numbers.append(10)\n",
        "print(numbers)"
      ],
      "metadata": {
        "colab": {
          "base_uri": "https://localhost:8080/"
        },
        "id": "-aLZPThS_Qy4",
        "outputId": "b49bf13c-910a-4454-a40a-724e0cfdd0b1"
      },
      "execution_count": null,
      "outputs": [
        {
          "output_type": "stream",
          "name": "stdout",
          "text": [
            "[1, 2, 3, 4, 10]\n"
          ]
        }
      ]
    },
    {
      "cell_type": "markdown",
      "source": [
        "8. Remove 3 from list [1, 2, 3, 4, 5]"
      ],
      "metadata": {
        "id": "anWjUiNyYHAN"
      }
    },
    {
      "cell_type": "code",
      "source": [
        "numbers = [1, 2, 3, 4, 5]\n",
        "numbers.remove(3)\n",
        "print(numbers)"
      ],
      "metadata": {
        "colab": {
          "base_uri": "https://localhost:8080/"
        },
        "id": "Tot4amXx_ZAG",
        "outputId": "da142a79-90fc-4037-d08e-7ebc2cb66a3f"
      },
      "execution_count": null,
      "outputs": [
        {
          "output_type": "stream",
          "name": "stdout",
          "text": [
            "[1, 2, 4, 5]\n"
          ]
        }
      ]
    },
    {
      "cell_type": "markdown",
      "source": [
        "9. Access second element in ['a', 'b', 'c', 'd']"
      ],
      "metadata": {
        "id": "JS0JIOmWYKZy"
      }
    },
    {
      "cell_type": "code",
      "source": [
        "letters = ['a', 'b', 'c', 'd']\n",
        "print(letters[1])"
      ],
      "metadata": {
        "colab": {
          "base_uri": "https://localhost:8080/"
        },
        "id": "VzgHaJMP_cdS",
        "outputId": "7b45e481-c7bd-492b-bdf8-ee38cab1644c"
      },
      "execution_count": null,
      "outputs": [
        {
          "output_type": "stream",
          "name": "stdout",
          "text": [
            "b\n"
          ]
        }
      ]
    },
    {
      "cell_type": "markdown",
      "source": [
        "10. Reverse the list [10, 20, 30, 40, 50]"
      ],
      "metadata": {
        "id": "qn1b_l_zYNUH"
      }
    },
    {
      "cell_type": "code",
      "source": [
        "numbers = [10, 20, 30, 40, 50]\n",
        "print(numbers[::-1])"
      ],
      "metadata": {
        "colab": {
          "base_uri": "https://localhost:8080/"
        },
        "id": "y9VslFhD_iML",
        "outputId": "412a29d9-14b6-4c68-a2a9-f5263bbbf1fb"
      },
      "execution_count": null,
      "outputs": [
        {
          "output_type": "stream",
          "name": "stdout",
          "text": [
            "[50, 40, 30, 20, 10]\n"
          ]
        }
      ]
    },
    {
      "cell_type": "markdown",
      "source": [
        "11. Create a tuple with 100, 200, 300 and print it"
      ],
      "metadata": {
        "id": "HciIxR-VYQ5m"
      }
    },
    {
      "cell_type": "code",
      "source": [
        "numbers = (100, 200, 300)\n",
        "print(numbers)"
      ],
      "metadata": {
        "colab": {
          "base_uri": "https://localhost:8080/"
        },
        "id": "2I6gVVs0_por",
        "outputId": "e10038d0-6a27-4c5b-c734-7332d04c10fd"
      },
      "execution_count": null,
      "outputs": [
        {
          "output_type": "stream",
          "name": "stdout",
          "text": [
            "(100, 200, 300)\n"
          ]
        }
      ]
    },
    {
      "cell_type": "markdown",
      "source": [
        "12. Access second-to-last element of ('red', 'green', 'blue', 'yellow')"
      ],
      "metadata": {
        "id": "M4_R3r_pYT9s"
      }
    },
    {
      "cell_type": "code",
      "source": [
        "colors = ('red', 'green', 'blue', 'yellow')\n",
        "print(colors[-2])"
      ],
      "metadata": {
        "colab": {
          "base_uri": "https://localhost:8080/"
        },
        "id": "PpsPft5X_uVL",
        "outputId": "831c42ed-d655-459b-98d1-523cb0c2d6d1"
      },
      "execution_count": null,
      "outputs": [
        {
          "output_type": "stream",
          "name": "stdout",
          "text": [
            "blue\n"
          ]
        }
      ]
    },
    {
      "cell_type": "markdown",
      "source": [
        "13. Find minimum in (10, 20, 5, 15)"
      ],
      "metadata": {
        "id": "7KZ1Md9tYW36"
      }
    },
    {
      "cell_type": "code",
      "source": [
        "numbers = (10, 20, 5, 15)\n",
        "print(min(numbers))"
      ],
      "metadata": {
        "colab": {
          "base_uri": "https://localhost:8080/"
        },
        "id": "OIN365la_y1R",
        "outputId": "50cfb5cb-7f0c-4cef-e722-4800c9a23e96"
      },
      "execution_count": null,
      "outputs": [
        {
          "output_type": "stream",
          "name": "stdout",
          "text": [
            "5\n"
          ]
        }
      ]
    },
    {
      "cell_type": "markdown",
      "source": [
        "14. Find index of \"cat\" in ('dog', 'cat', 'rabbit')"
      ],
      "metadata": {
        "id": "3FVWs76zYZ3D"
      }
    },
    {
      "cell_type": "code",
      "source": [
        "animals = ('dog', 'cat', 'rabbit')\n",
        "print(animals.index(\"cat\"))"
      ],
      "metadata": {
        "colab": {
          "base_uri": "https://localhost:8080/"
        },
        "id": "yYDtR3Qd_3cj",
        "outputId": "de509816-b187-4a31-bd1e-385fb98e3ceb"
      },
      "execution_count": null,
      "outputs": [
        {
          "output_type": "stream",
          "name": "stdout",
          "text": [
            "1\n"
          ]
        }
      ]
    },
    {
      "cell_type": "markdown",
      "source": [
        "15. Create a tuple of 3 fruits and check if \"kiwi\" is in it"
      ],
      "metadata": {
        "id": "1rZl7OK3YdM4"
      }
    },
    {
      "cell_type": "code",
      "source": [
        "fruits = ('apple', 'banana', 'cherry')\n",
        "print(\"kiwi\" in fruits)"
      ],
      "metadata": {
        "colab": {
          "base_uri": "https://localhost:8080/"
        },
        "id": "T1hMGLZC_9PJ",
        "outputId": "1d3b4426-ba62-4d8b-c620-82434332de29"
      },
      "execution_count": null,
      "outputs": [
        {
          "output_type": "stream",
          "name": "stdout",
          "text": [
            "False\n"
          ]
        }
      ]
    },
    {
      "cell_type": "markdown",
      "source": [
        "16. Create set with 'a', 'b', 'c' and print it"
      ],
      "metadata": {
        "id": "gB5KDHvEYgeq"
      }
    },
    {
      "cell_type": "code",
      "source": [
        "my_set = {'a', 'b', 'c'}\n",
        "print(my_set)"
      ],
      "metadata": {
        "colab": {
          "base_uri": "https://localhost:8080/"
        },
        "id": "F6HnmCjiACil",
        "outputId": "50e83f25-8250-4df2-9921-aa00732f5ae1"
      },
      "execution_count": null,
      "outputs": [
        {
          "output_type": "stream",
          "name": "stdout",
          "text": [
            "{'c', 'b', 'a'}\n"
          ]
        }
      ]
    },
    {
      "cell_type": "markdown",
      "source": [
        "17. Clear all elements from {1, 2, 3, 4, 5}"
      ],
      "metadata": {
        "id": "cDFWECPUYmZr"
      }
    },
    {
      "cell_type": "code",
      "source": [
        "my_set = {1, 2, 3, 4, 5}\n",
        "my_set.clear()\n",
        "print(my_set)"
      ],
      "metadata": {
        "colab": {
          "base_uri": "https://localhost:8080/"
        },
        "id": "0ZEYEkkkDiXk",
        "outputId": "fb0aec00-4f14-442e-fc7e-e122c4789c31"
      },
      "execution_count": null,
      "outputs": [
        {
          "output_type": "stream",
          "name": "stdout",
          "text": [
            "set()\n"
          ]
        }
      ]
    },
    {
      "cell_type": "markdown",
      "source": [
        "18. Remove 4 from {1, 2, 3, 4}"
      ],
      "metadata": {
        "id": "8-uRBhbXYplG"
      }
    },
    {
      "cell_type": "code",
      "source": [
        "my_set = {1, 2, 3, 4}\n",
        "my_set.remove(4)\n",
        "print(my_set)"
      ],
      "metadata": {
        "colab": {
          "base_uri": "https://localhost:8080/"
        },
        "id": "H0GZB_2TDx9x",
        "outputId": "29bbfb3f-0651-438b-a3f9-9ece2867f034"
      },
      "execution_count": null,
      "outputs": [
        {
          "output_type": "stream",
          "name": "stdout",
          "text": [
            "{1, 2, 3}\n"
          ]
        }
      ]
    },
    {
      "cell_type": "markdown",
      "source": [
        "19. Union of {1, 2, 3} and {3, 4, 5}"
      ],
      "metadata": {
        "id": "5dL8DGyrYsXr"
      }
    },
    {
      "cell_type": "code",
      "source": [
        "a = {1, 2, 3}\n",
        "b = {3, 4, 5}\n",
        "print(a.union(b))"
      ],
      "metadata": {
        "colab": {
          "base_uri": "https://localhost:8080/"
        },
        "id": "0yew6JHOD1XJ",
        "outputId": "a5d519ad-1b97-4de2-b03e-8ccc7537a219"
      },
      "execution_count": null,
      "outputs": [
        {
          "output_type": "stream",
          "name": "stdout",
          "text": [
            "{1, 2, 3, 4, 5}\n"
          ]
        }
      ]
    },
    {
      "cell_type": "markdown",
      "source": [
        "20. Intersection of {1, 2, 3} and {2, 3, 4}"
      ],
      "metadata": {
        "id": "2omkey7rYyow"
      }
    },
    {
      "cell_type": "code",
      "source": [
        "a = {1, 2, 3}\n",
        "b = {2, 3, 4}\n",
        "print(a.intersection(b))"
      ],
      "metadata": {
        "colab": {
          "base_uri": "https://localhost:8080/"
        },
        "id": "l4JDak13D8MX",
        "outputId": "4fdc2791-56ce-422d-d068-e18126428591"
      },
      "execution_count": null,
      "outputs": [
        {
          "output_type": "stream",
          "name": "stdout",
          "text": [
            "{2, 3}\n"
          ]
        }
      ]
    },
    {
      "cell_type": "markdown",
      "source": [
        "21. Create dict with \"name\", \"age\", \"city\" and print it"
      ],
      "metadata": {
        "id": "v2JEri3lY2sE"
      }
    },
    {
      "cell_type": "code",
      "source": [
        "person = {\"name\": \"Yavnika\", \"age\": 24, \"city\": \"New delhi\"}\n",
        "print(person)"
      ],
      "metadata": {
        "colab": {
          "base_uri": "https://localhost:8080/"
        },
        "id": "su8UDTJ2D_wN",
        "outputId": "caf49051-8772-4895-aa85-486932dcb1e3"
      },
      "execution_count": null,
      "outputs": [
        {
          "output_type": "stream",
          "name": "stdout",
          "text": [
            "{'name': 'Yavnika', 'age': 24, 'city': 'New delhi'}\n"
          ]
        }
      ]
    },
    {
      "cell_type": "markdown",
      "source": [
        "22. Add \"country\": \"USA\" to {'name': 'John', 'age': 25}"
      ],
      "metadata": {
        "id": "uIyvIZOmY5Wz"
      }
    },
    {
      "cell_type": "code",
      "source": [
        "person = {'name': 'John', 'age': 25}\n",
        "person[\"country\"] = \"USA\"\n",
        "print(person)"
      ],
      "metadata": {
        "colab": {
          "base_uri": "https://localhost:8080/"
        },
        "id": "j3DLzRaaEv8e",
        "outputId": "64af4d94-342e-44ab-e54c-235d0aed69f0"
      },
      "execution_count": null,
      "outputs": [
        {
          "output_type": "stream",
          "name": "stdout",
          "text": [
            "{'name': 'John', 'age': 25, 'country': 'USA'}\n"
          ]
        }
      ]
    },
    {
      "cell_type": "markdown",
      "source": [
        "23. Access value of \"name\" in {'name': 'Alice', 'age': 30}"
      ],
      "metadata": {
        "id": "lX-YKqezY8wf"
      }
    },
    {
      "cell_type": "code",
      "source": [
        "person = {'name': 'Alice', 'age': 30}\n",
        "print(person[\"name\"])"
      ],
      "metadata": {
        "colab": {
          "base_uri": "https://localhost:8080/"
        },
        "id": "906YTGA1E9td",
        "outputId": "90ea0c2d-c5e5-429e-ab3e-38b17dea541f"
      },
      "execution_count": null,
      "outputs": [
        {
          "output_type": "stream",
          "name": "stdout",
          "text": [
            "Alice\n"
          ]
        }
      ]
    },
    {
      "cell_type": "markdown",
      "source": [
        "24. Remove \"age\" from {'name': 'Bob', 'age': 22, 'city': 'New York'}"
      ],
      "metadata": {
        "id": "ZNM3iVB6Y_zj"
      }
    },
    {
      "cell_type": "code",
      "source": [
        "person = {'name': 'Bob', 'age': 22, 'city': 'New York'}\n",
        "del person[\"age\"]\n",
        "print(person)"
      ],
      "metadata": {
        "colab": {
          "base_uri": "https://localhost:8080/"
        },
        "id": "PQ30vAtvFEiy",
        "outputId": "06054023-4474-4a1a-c836-73d5e240f18d"
      },
      "execution_count": null,
      "outputs": [
        {
          "output_type": "stream",
          "name": "stdout",
          "text": [
            "{'name': 'Bob', 'city': 'New York'}\n"
          ]
        }
      ]
    },
    {
      "cell_type": "markdown",
      "source": [
        "25. Check if \"city\" exists in {'name': 'Alice', 'city': 'Paris'}"
      ],
      "metadata": {
        "id": "tzoKHMDxZDaO"
      }
    },
    {
      "cell_type": "code",
      "source": [
        "person = {'name': 'Alice', 'city': 'Paris'}\n",
        "print(\"city\" in person)"
      ],
      "metadata": {
        "colab": {
          "base_uri": "https://localhost:8080/"
        },
        "id": "NQm0SG2sFJh5",
        "outputId": "16a335c8-b84c-483a-e60a-7097c5a93b85"
      },
      "execution_count": null,
      "outputs": [
        {
          "output_type": "stream",
          "name": "stdout",
          "text": [
            "True\n"
          ]
        }
      ]
    },
    {
      "cell_type": "markdown",
      "source": [
        "26. Create and print a list, a tuple, and a dictionary"
      ],
      "metadata": {
        "id": "Azg4Pgx8ZGnO"
      }
    },
    {
      "cell_type": "code",
      "source": [
        "my_list = [1, 2, 3]\n",
        "my_tuple = (4, 5, 6)\n",
        "my_dict = {\"a\": 1, \"b\": 2}\n",
        "print(my_list)\n",
        "print(my_tuple)\n",
        "print(my_dict)"
      ],
      "metadata": {
        "colab": {
          "base_uri": "https://localhost:8080/"
        },
        "id": "vtiFDbP2FPa1",
        "outputId": "eaf8a3a7-5203-46f0-8c19-3c8a4ca2e091"
      },
      "execution_count": null,
      "outputs": [
        {
          "output_type": "stream",
          "name": "stdout",
          "text": [
            "[1, 2, 3]\n",
            "(4, 5, 6)\n",
            "{'a': 1, 'b': 2}\n"
          ]
        }
      ]
    },
    {
      "cell_type": "markdown",
      "source": [
        "27. List of 5 random numbers between 1 and 100, sort & print"
      ],
      "metadata": {
        "id": "Ofix9x3jZKoO"
      }
    },
    {
      "cell_type": "code",
      "source": [
        "import random\n",
        "nums = random.sample(range(1, 101), 5)\n",
        "nums.sort()\n",
        "print(nums)"
      ],
      "metadata": {
        "colab": {
          "base_uri": "https://localhost:8080/"
        },
        "id": "dYHODyq_FVFF",
        "outputId": "facba77b-dd0d-48cf-cad8-d0f006bb7a32"
      },
      "execution_count": null,
      "outputs": [
        {
          "output_type": "stream",
          "name": "stdout",
          "text": [
            "[7, 34, 36, 81, 95]\n"
          ]
        }
      ]
    },
    {
      "cell_type": "markdown",
      "source": [
        "28. List with strings, print element at third index"
      ],
      "metadata": {
        "id": "JMaSGRfgZN0Y"
      }
    },
    {
      "cell_type": "code",
      "source": [
        "words = [\"Manali\", \"Jibhi\", \"Rishikesh\", \"Banaras\", \"Assam\"]\n",
        "print(words[3])"
      ],
      "metadata": {
        "colab": {
          "base_uri": "https://localhost:8080/"
        },
        "id": "gCQvChbGFij8",
        "outputId": "fa281c89-76a8-4a78-d90a-c0f1a4f72927"
      },
      "execution_count": null,
      "outputs": [
        {
          "output_type": "stream",
          "name": "stdout",
          "text": [
            "Banaras\n"
          ]
        }
      ]
    },
    {
      "cell_type": "markdown",
      "source": [
        "29. Combine two dictionaries and print result"
      ],
      "metadata": {
        "id": "HtDJJvCAZQ5O"
      }
    },
    {
      "cell_type": "code",
      "source": [
        "a = {\"name\": \"John\"}\n",
        "b = {\"age\": 25}\n",
        "combined = {**a, **b}\n",
        "print(combined)"
      ],
      "metadata": {
        "colab": {
          "base_uri": "https://localhost:8080/"
        },
        "id": "23vzolpoF26x",
        "outputId": "c15f1bb5-00bd-431c-a7d1-72ad106adf08"
      },
      "execution_count": null,
      "outputs": [
        {
          "output_type": "stream",
          "name": "stdout",
          "text": [
            "{'name': 'John', 'age': 25}\n"
          ]
        }
      ]
    },
    {
      "cell_type": "markdown",
      "source": [
        "30. Convert list of strings into a set"
      ],
      "metadata": {
        "id": "OOsHWNyIZUle"
      }
    },
    {
      "cell_type": "code",
      "source": [
        "words = [\"Manali\", \"Jibhi\", \"Rishikesh\", \"Manali\", \"Assam\"]\n",
        "unique_words = set(words)\n",
        "print(unique_words)"
      ],
      "metadata": {
        "colab": {
          "base_uri": "https://localhost:8080/"
        },
        "id": "ADItp34bF-BZ",
        "outputId": "bcf95f44-e50f-4ad4-ccfb-5dbad6bcea73"
      },
      "execution_count": null,
      "outputs": [
        {
          "output_type": "stream",
          "name": "stdout",
          "text": [
            "{'Rishikesh', 'Jibhi', 'Assam', 'Manali'}\n"
          ]
        }
      ]
    }
  ]
}